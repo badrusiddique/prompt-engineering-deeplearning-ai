{
 "cells": [
  {
   "cell_type": "code",
   "execution_count": null,
   "id": "dce55c40",
   "metadata": {},
   "outputs": [],
   "source": [
    "import openai\n",
    "\n",
    "client = openai.OpenAI(api_key = 'YOUR_API_KEY')"
   ]
  },
  {
   "cell_type": "code",
   "execution_count": 4,
   "id": "e8ec898b",
   "metadata": {},
   "outputs": [],
   "source": [
    "def get_completion(prompt, model=\"gpt-4-turbo\"):\n",
    "    messages = [{ \"role\": \"user\", \"content\": prompt }]\n",
    "    response = client.chat.completions.create(\n",
    "        model=model,\n",
    "        messages=messages,\n",
    "        temperature=0,\n",
    "    )\n",
    "    # print(f\"--- response: {response}\")\n",
    "    return response.choices[0].message.content"
   ]
  },
  {
   "cell_type": "code",
   "execution_count": 5,
   "id": "5db86575",
   "metadata": {},
   "outputs": [
    {
     "name": "stdout",
     "output_type": "stream",
     "text": [
      "Hi, main ek blender order karna chahta hoon.\n"
     ]
    }
   ],
   "source": [
    "prompt = f\"\"\"\n",
    "Translate the following English text to Hinglish: \\ \n",
    "```Hi, I would like to order a blender```\n",
    "\"\"\"\n",
    "response = get_completion(prompt)\n",
    "print(response)"
   ]
  },
  {
   "cell_type": "code",
   "execution_count": 6,
   "id": "350ec64f",
   "metadata": {},
   "outputs": [
    {
     "name": "stdout",
     "output_type": "stream",
     "text": [
      "\"Hi, I don't want to talk to you, I am angry with you.\"\n"
     ]
    }
   ],
   "source": [
    "prompt = f\"\"\"\n",
    "Translate the following Hinglish text to English: \\ \n",
    "```Hi, mujhse baat ni karna, main tumse naraz hoon```\n",
    "\"\"\"\n",
    "response = get_completion(prompt)\n",
    "print(response)"
   ]
  },
  {
   "cell_type": "code",
   "execution_count": 7,
   "id": "88efe990",
   "metadata": {},
   "outputs": [
    {
     "name": "stdout",
     "output_type": "stream",
     "text": [
      "\"Hi, today I will go to the office by auto-rickshaw.\"\n"
     ]
    }
   ],
   "source": [
    "prompt = f\"\"\"\n",
    "Translate the following Hinglish text to English: \\ \n",
    "```Hi, mai aaj tuk-tuk se office jaunga```\n",
    "\"\"\"\n",
    "response = get_completion(prompt)\n",
    "print(response)"
   ]
  },
  {
   "cell_type": "code",
   "execution_count": 9,
   "id": "10377190",
   "metadata": {},
   "outputs": [
    {
     "name": "stdout",
     "output_type": "stream",
     "text": [
      "The sentence you provided is in Hindi. \n",
      "\n",
      "In Urdu (transliterated into English characters): \"Hi, main aaj tuk-tuk se daftar jaunga.\"\n",
      "\n",
      "In English: \"Hi, I will go to the office by tuk-tuk today.\"\n"
     ]
    }
   ],
   "source": [
    "prompt = f\"\"\"\n",
    "Tell me what language is the following sentence and then convert it to\n",
    "Urdu (but in english characters) and English: \\ \n",
    "```Hi, mai aaj tuk-tuk se office jaunga```\n",
    "\"\"\"\n",
    "response = get_completion(prompt)\n",
    "print(response)"
   ]
  },
  {
   "cell_type": "code",
   "execution_count": 10,
   "id": "72b58904",
   "metadata": {},
   "outputs": [
    {
     "name": "stdout",
     "output_type": "stream",
     "text": [
      "The sentence you provided is in Hindi. Here's how it translates to Urdu (written in English characters) and English, in both formal and informal tones:\n",
      "\n",
      "### Urdu Translation\n",
      "- **Formal:** Salam, main aaj tuk-tuk ke zariye daftar jaunga.\n",
      "- **Informal:** Salam, main aaj tuk-tuk se office jaunga.\n",
      "\n",
      "### English Translation\n",
      "- **Formal:** Hello, I will go to the office today by tuk-tuk.\n",
      "- **Informal:** Hi, I'm heading to the office by tuk-tuk today.\n",
      "\n",
      "### Language Slang Extraction:\n",
      "The term \"tuk-tuk\" is a slang or colloquial term used in South Asia for a type of auto-rickshaw, a small three-wheeled vehicle. This term adds a casual tone to the sentence.\n"
     ]
    }
   ],
   "source": [
    "prompt = f\"\"\"\n",
    "Tell me what language is the following sentence and then convert it to\n",
    "Urdu (but in english characters) and English also tone it to both formal and informal\n",
    "and extract out language slang if any \\ \n",
    "```Hi, mai aaj tuk-tuk se office jaunga```\n",
    "\"\"\"\n",
    "response = get_completion(prompt)\n",
    "print(response)"
   ]
  },
  {
   "cell_type": "code",
   "execution_count": 13,
   "id": "3ec1a98b",
   "metadata": {},
   "outputs": [
    {
     "name": "stdout",
     "output_type": "stream",
     "text": [
      "The sentence you provided is in Hindi, a language spoken primarily in India. Here's the translation and conversion into Urdu (written in Roman characters), and English in both UK and US slang, toned formally and informally:\n",
      "\n",
      "### Urdu Translation (in English characters):\n",
      "- **Formal:** \"Bhai, bohot mushkil mein phans gaya hoon, bilkul zabardast manzar hai dost!\"\n",
      "- **Informal:** \"Bhai, scene tight ho gaya, ekdum zabardast hai yaar!\"\n",
      "\n",
      "### English Translation:\n",
      "#### UK Slang:\n",
      "- **Formal:** \"Brother, I've found myself in a rather difficult situation, the scene is absolutely splendid, my friend!\"\n",
      "- **Informal:** \"Mate, it's all gone pear-shaped, but it's a cracking scene, pal!\"\n",
      "\n",
      "#### US Slang:\n",
      "- **Formal:** \"Brother, I've encountered a significant challenge, the scene is truly marvelous, my friend!\"\n",
      "- **Informal:** \"Dude, I'm totally screwed, but it's an awesome scene, man!\"\n",
      "\n",
      "The original Hindi sentence uses casual and colloquial language, with words like \"Bhai\" (brother/friend), \"waat lag gayi\" (got into trouble or a difficult situation), \"ekdum\" (absolutely), \"jhakaas\" (excellent or awesome), and \"yaar\" (friend), which are informal and expressive, typical of everyday conversational Hindi.\n"
     ]
    }
   ],
   "source": [
    "prompt = f\"\"\"\n",
    "Tell me what language is the following sentence and then convert it to\n",
    "Urdu (but in english characters) and English (in UK and US local slang) also tone it to both formal and informal\n",
    "and extract out language slang if any \\ \n",
    "```Bhai, waat lag gayi, ekdum jhakaas scene hai yaar!```\n",
    "\"\"\"\n",
    "response = get_completion(prompt)\n",
    "print(response)"
   ]
  }
 ],
 "metadata": {
  "kernelspec": {
   "display_name": ".venv",
   "language": "python",
   "name": "python3"
  },
  "language_info": {
   "codemirror_mode": {
    "name": "ipython",
    "version": 3
   },
   "file_extension": ".py",
   "mimetype": "text/x-python",
   "name": "python",
   "nbconvert_exporter": "python",
   "pygments_lexer": "ipython3",
   "version": "3.11.6"
  }
 },
 "nbformat": 4,
 "nbformat_minor": 5
}
